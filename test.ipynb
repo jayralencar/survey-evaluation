{
 "cells": [
  {
   "cell_type": "code",
   "execution_count": 1,
   "metadata": {},
   "outputs": [],
   "source": [
    "import pandas as pd \n",
    "\n",
    "df = pd.read_json(\"scores.jsonl\", lines=True)"
   ]
  },
  {
   "cell_type": "code",
   "execution_count": 3,
   "metadata": {},
   "outputs": [],
   "source": [
    "item = df.iloc[0]"
   ]
  },
  {
   "cell_type": "code",
   "execution_count": 7,
   "metadata": {},
   "outputs": [
    {
     "data": {
      "text/html": [
       "<div>\n",
       "<style scoped>\n",
       "    .dataframe tbody tr th:only-of-type {\n",
       "        vertical-align: middle;\n",
       "    }\n",
       "\n",
       "    .dataframe tbody tr th {\n",
       "        vertical-align: top;\n",
       "    }\n",
       "\n",
       "    .dataframe thead th {\n",
       "        text-align: right;\n",
       "    }\n",
       "</style>\n",
       "<table border=\"1\" class=\"dataframe\">\n",
       "  <thead>\n",
       "    <tr style=\"text-align: right;\">\n",
       "      <th></th>\n",
       "      <th>survey_id</th>\n",
       "      <th>survey_title</th>\n",
       "      <th>section_title</th>\n",
       "      <th>section_text_in_survey</th>\n",
       "      <th>citations</th>\n",
       "      <th>generated_section_text</th>\n",
       "      <th>score</th>\n",
       "      <th>scores</th>\n",
       "    </tr>\n",
       "  </thead>\n",
       "  <tbody>\n",
       "    <tr>\n",
       "      <th>0</th>\n",
       "      <td>2011.06801v1</td>\n",
       "      <td>A Comprehensive Survey on Deep Music Generatio...</td>\n",
       "      <td>Datasets::MIDI</td>\n",
       "      <td>As introduced in Section 3, MIDI is a descrip...</td>\n",
       "      <td>{'bibrefs': ['BIBREF199', 'BIBREF315', 'BIBREF...</td>\n",
       "      <td>{'gpt-3.5-turbo': {'text': 'Datasets - MIDI\n",
       "\n",
       "M...</td>\n",
       "      <td>3.95</td>\n",
       "      <td>[4.0, 4.0, 4.0, 3.0, 4.0, 4.0, 4.0, 4.0, 4.0, ...</td>\n",
       "    </tr>\n",
       "    <tr>\n",
       "      <th>1</th>\n",
       "      <td>2309.15402v1</td>\n",
       "      <td>A Survey of Chain of Thought Reasoning: Advanc...</td>\n",
       "      <td>Discussion::Comparison between Verification/Re...</td>\n",
       "      <td>Numerous parallels exist between planning meth...</td>\n",
       "      <td>{'bibrefs': ['BIBREF16', 'BIBREF80', 'BIBREF81...</td>\n",
       "      <td>{'gpt-3.5-turbo': {'text': 'Discussion - Compa...</td>\n",
       "      <td>4.00</td>\n",
       "      <td>[4.0, 4.0, 4.0, 4.0, 4.0, 4.0, 4.0, 4.0, 4.0, ...</td>\n",
       "    </tr>\n",
       "    <tr>\n",
       "      <th>2</th>\n",
       "      <td>2309.15402v1</td>\n",
       "      <td>A Survey of Chain of Thought Reasoning: Advanc...</td>\n",
       "      <td>Methods::XoT Structural Variants::Tree Structure</td>\n",
       "      <td>The original chain structure inherently limits...</td>\n",
       "      <td>{'bibrefs': ['BIBREF16', 'BIBREF80', 'BIBREF14...</td>\n",
       "      <td>{'gpt-3.5-turbo': {'text': 'Methods - XoT Stru...</td>\n",
       "      <td>4.00</td>\n",
       "      <td>[4.0, 4.0, 4.0, 4.0, 4.0, 4.0, 4.0, 4.0, 4.0, ...</td>\n",
       "    </tr>\n",
       "    <tr>\n",
       "      <th>3</th>\n",
       "      <td>2105.03075v5</td>\n",
       "      <td>A Survey of Data Augmentation Approaches for NLP</td>\n",
       "      <td>Applications::Adversarial Examples (AVEs)</td>\n",
       "      <td>Adversarial examples can be generated using in...</td>\n",
       "      <td>{'bibrefs': ['BIBREF92', 'BIBREF90', 'BIBREF89...</td>\n",
       "      <td>{'gpt-3.5-turbo': {'text': 'Applications - Adv...</td>\n",
       "      <td>4.00</td>\n",
       "      <td>[4.0, 4.0, 4.0, 4.0, 4.0, 4.0, 4.0, 4.0, 4.0, ...</td>\n",
       "    </tr>\n",
       "    <tr>\n",
       "      <th>4</th>\n",
       "      <td>2105.03075v5</td>\n",
       "      <td>A Survey of Data Augmentation Approaches for NLP</td>\n",
       "      <td>Applications::Few-Shot Learning</td>\n",
       "      <td>DA methods can ease few-shot learning by addin...</td>\n",
       "      <td>{'bibrefs': ['BIBREF21', 'BIBREF88', 'BIBREF87...</td>\n",
       "      <td>{'gpt-3.5-turbo': {'text': 'Applications - Few...</td>\n",
       "      <td>4.00</td>\n",
       "      <td>[4.0, 4.0, 4.0, 4.0, 4.0, 4.0, 4.0, 4.0, 4.0, ...</td>\n",
       "    </tr>\n",
       "  </tbody>\n",
       "</table>\n",
       "</div>"
      ],
      "text/plain": [
       "      survey_id                                       survey_title  \\\n",
       "0  2011.06801v1  A Comprehensive Survey on Deep Music Generatio...   \n",
       "1  2309.15402v1  A Survey of Chain of Thought Reasoning: Advanc...   \n",
       "2  2309.15402v1  A Survey of Chain of Thought Reasoning: Advanc...   \n",
       "3  2105.03075v5   A Survey of Data Augmentation Approaches for NLP   \n",
       "4  2105.03075v5   A Survey of Data Augmentation Approaches for NLP   \n",
       "\n",
       "                                       section_title  \\\n",
       "0                                     Datasets::MIDI   \n",
       "1  Discussion::Comparison between Verification/Re...   \n",
       "2   Methods::XoT Structural Variants::Tree Structure   \n",
       "3          Applications::Adversarial Examples (AVEs)   \n",
       "4                    Applications::Few-Shot Learning   \n",
       "\n",
       "                              section_text_in_survey  \\\n",
       "0   As introduced in Section 3, MIDI is a descrip...   \n",
       "1  Numerous parallels exist between planning meth...   \n",
       "2  The original chain structure inherently limits...   \n",
       "3  Adversarial examples can be generated using in...   \n",
       "4  DA methods can ease few-shot learning by addin...   \n",
       "\n",
       "                                           citations  \\\n",
       "0  {'bibrefs': ['BIBREF199', 'BIBREF315', 'BIBREF...   \n",
       "1  {'bibrefs': ['BIBREF16', 'BIBREF80', 'BIBREF81...   \n",
       "2  {'bibrefs': ['BIBREF16', 'BIBREF80', 'BIBREF14...   \n",
       "3  {'bibrefs': ['BIBREF92', 'BIBREF90', 'BIBREF89...   \n",
       "4  {'bibrefs': ['BIBREF21', 'BIBREF88', 'BIBREF87...   \n",
       "\n",
       "                              generated_section_text  score  \\\n",
       "0  {'gpt-3.5-turbo': {'text': 'Datasets - MIDI\n",
       "\n",
       "M...   3.95   \n",
       "1  {'gpt-3.5-turbo': {'text': 'Discussion - Compa...   4.00   \n",
       "2  {'gpt-3.5-turbo': {'text': 'Methods - XoT Stru...   4.00   \n",
       "3  {'gpt-3.5-turbo': {'text': 'Applications - Adv...   4.00   \n",
       "4  {'gpt-3.5-turbo': {'text': 'Applications - Few...   4.00   \n",
       "\n",
       "                                              scores  \n",
       "0  [4.0, 4.0, 4.0, 3.0, 4.0, 4.0, 4.0, 4.0, 4.0, ...  \n",
       "1  [4.0, 4.0, 4.0, 4.0, 4.0, 4.0, 4.0, 4.0, 4.0, ...  \n",
       "2  [4.0, 4.0, 4.0, 4.0, 4.0, 4.0, 4.0, 4.0, 4.0, ...  \n",
       "3  [4.0, 4.0, 4.0, 4.0, 4.0, 4.0, 4.0, 4.0, 4.0, ...  \n",
       "4  [4.0, 4.0, 4.0, 4.0, 4.0, 4.0, 4.0, 4.0, 4.0, ...  "
      ]
     },
     "execution_count": 7,
     "metadata": {},
     "output_type": "execute_result"
    }
   ],
   "source": [
    "df.head()"
   ]
  },
  {
   "cell_type": "code",
   "execution_count": 11,
   "metadata": {},
   "outputs": [
    {
     "data": {
      "text/plain": [
       "'Datasets - MIDI\\n\\nMIDI (Musical Instrument Digital Interface) is a widely used format for representing music in a digital form. MIDI datasets have played a crucial role in advancing deep music generation research. In this section, we discuss several notable MIDI datasets that have been used for deep music generation tasks.\\n\\nThe KernScores dataset [REF0] contains classical music in a Humdrum format and is obtained through an optical music recognition system. It provides a valuable resource for studying classical music composition and analysis. Another dataset, Kunstderfuge [REF0], includes solo piano and non-solo piano works of 598 composers. The piano-midi.de, classical archives, and Kunstderfuge datasets are entered using a MIDI sequencer and are not played by pianists [REF0].\\n\\nThe MAPS dataset [REF0] utilizes MIDI files from Piano-midi.de to render real recordings by playing back the MIDI files on a Yamaha Disklavier. This dataset enables researchers to explore the relationship between MIDI representations and real piano performances. The MAESTRO dataset [REF0] contains over 200 hours of fine alignment MIDI files and audio recordings. It features virtuoso pianists performing on Yamaha Disklaviers with an integrated MIDI capture system. MAESTRO encompasses music works from 62 composers, providing a diverse and high-quality resource for deep music generation research [REF0].\\n\\nMIDI datasets offer various advantages for deep music generation tasks. They provide a structured representation of music, including information about pitch, duration, articulation marking, tempo, and more [REF6]. This rich set of features allows models to capture the nuances of musical expression. Additionally, MIDI datasets enable the exploration of multi-instrumental music generation by assigning notes to different instrument voices [REF3].\\n\\nHowever, MIDI datasets also have limitations. They often lack expressive performance features, such as absolute tempo, velocity, and articulation usage [REF6]. This can limit the ability of models to generate music with realistic and nuanced performances. Furthermore, MIDI datasets may not fully capture the intricacies of human performances, as they are often created through sequencers rather than being played by musicians [REF0].\\n\\nIn summary, MIDI datasets have been instrumental in advancing deep music generation research. They provide structured representations of music and enable the exploration of multi-instrumental music generation. However, they also have limitations in capturing expressive performance features. Future research should focus on addressing these limitations and developing more comprehensive and diverse MIDI datasets for deep music generation tasks.\\n\\n[REF0] Sapp, C. (2005). The KernScores dataset.\\n[REF0] Kunstderfuge. (2002). The Kunstderfuge dataset.\\n[REF0] Emiya, V., et al. (2010). The MAPS dataset.\\n[REF0] Hawthorne, C., et al. (2019). The MAESTRO dataset.\\n[REF3] Davis, B., & Mohammad, S. (Year). Title of the paper.\\n[REF6] Author, A., & Author, B. (Year). Title of the paper.'"
      ]
     },
     "execution_count": 11,
     "metadata": {},
     "output_type": "execute_result"
    }
   ],
   "source": [
    "item[\"generated_section_text\"][\"gpt-3.5-turbo\"][\"text\"]"
   ]
  },
  {
   "cell_type": "code",
   "execution_count": 9,
   "metadata": {},
   "outputs": [],
   "source": [
    "from argparse import ArgumentParser\n",
    "from dotenv import load_dotenv\n",
    "from openai import OpenAI\n",
    "import json, os\n",
    "from tqdm import tqdm\n",
    "import pandas as pd\n",
    "from instructor import OpenAISchema\n",
    "from pydantic import BaseModel, Field, conint, field_validator,confloat\n",
    "from typing import List\n",
    "\n",
    "class ChecklistItem(BaseModel):\n",
    "    number: conint(ge=1) = Field(..., description=\"The item number\")\n",
    "    text: str = Field(..., description=\"The text of the checklist item\")\n",
    "\n",
    "class from argparse import ArgumentParser\n",
    "from dotenv import load_dotenv\n",
    "from openai import OpenAI\n",
    "import json, os\n",
    "from tqdm import tqdm\n",
    "import pandas as pd\n",
    "from instructor import OpenAISchema\n",
    "from pydantic import BaseModel, Field, conint, field_validator,confloat\n",
    "from typing import List\n",
    "\n",
    "class ChecklistItem(BaseModel):\n",
    "    number: conint(ge=1) = Field(..., description=\"The item number\")\n",
    "    text: str = Field(..., description=\"The text of the checklist item\")\n",
    "\n",
    "class Checklist(OpenAISchema):\n",
    "    items: List[ChecklistItem] = Field(..., description=\"The checklist items\")\n",
    "\n",
    "    def to_json(self):\n",
    "        return json.dumps(self.dict(), indent=4)(OpenAISchema):\n",
    "    items: List[ChecklistItem] = Field(..., description=\"The checklist items\")\n",
    "\n",
    "    def to_json(self):\n",
    "        return json.dumps(self.dict(), indent=4)"
   ]
  },
  {
   "cell_type": "code",
   "execution_count": 10,
   "metadata": {},
   "outputs": [
    {
     "data": {
      "text/plain": [
       "{'name': 'Checklist',\n",
       " 'description': 'Correctly extracted `Checklist` with all the required parameters with correct types',\n",
       " 'parameters': {'$defs': {'ChecklistItem': {'properties': {'number': {'description': 'The item number',\n",
       "      'minimum': 1,\n",
       "      'title': 'Number',\n",
       "      'type': 'integer'},\n",
       "     'text': {'description': 'The text of the checklist item',\n",
       "      'title': 'Text',\n",
       "      'type': 'string'}},\n",
       "    'required': ['number', 'text'],\n",
       "    'title': 'ChecklistItem',\n",
       "    'type': 'object'}},\n",
       "  'properties': {'items': {'description': 'The checklist items',\n",
       "    'items': {'$ref': '#/$defs/ChecklistItem'},\n",
       "    'title': 'Items',\n",
       "    'type': 'array'}},\n",
       "  'required': ['items'],\n",
       "  'type': 'object'}}"
      ]
     },
     "execution_count": 10,
     "metadata": {},
     "output_type": "execute_result"
    }
   ],
   "source": [
    "Checklist.openai_schema"
   ]
  },
  {
   "cell_type": "code",
   "execution_count": 2,
   "metadata": {},
   "outputs": [],
   "source": [
    "import pandas as pd"
   ]
  },
  {
   "cell_type": "code",
   "execution_count": 9,
   "metadata": {},
   "outputs": [],
   "source": [
    "df = pd.read_json(\"outputs/v5_evaluated_gpt-4-1106-preview_gpt-3.5-turbo-16k.jsonl\", lines=True)"
   ]
  },
  {
   "cell_type": "code",
   "execution_count": 7,
   "metadata": {},
   "outputs": [
    {
     "data": {
      "text/plain": [
       "<Axes: >"
      ]
     },
     "execution_count": 7,
     "metadata": {},
     "output_type": "execute_result"
    },
    {
     "data": {
      "image/png": "[encoded data removed]",
      "text/plain": [
       "<Figure size 640x480 with 1 Axes>"
      ]
     },
     "metadata": {},
     "output_type": "display_data"
    }
   ],
   "source": [
    "import matplotlib.pyplot as plt\n",
    "\n",
    "df[\"score_checkeval\"].hist(bins=50)"
   ]
  },
  {
   "cell_type": "code",
   "execution_count": 10,
   "metadata": {},
   "outputs": [
    {
     "data": {
      "text/plain": [
       "count    79.000000\n",
       "mean      0.376666\n",
       "std       0.428081\n",
       "min       0.000000\n",
       "25%       0.000000\n",
       "50%       0.066667\n",
       "75%       0.809091\n",
       "max       1.000000\n",
       "Name: score_checkeval, dtype: float64"
      ]
     },
     "execution_count": 10,
     "metadata": {},
     "output_type": "execute_result"
    }
   ],
   "source": [
    "df[\"score_checkeval\"].describe()"
   ]
  },
  {
   "cell_type": "code",
   "execution_count": 82,
   "metadata": {},
   "outputs": [],
   "source": [
    "item = df[df[\"score_checkeval\"] == 0.0].iloc[0]"
   ]
  },
  {
   "cell_type": "code",
   "execution_count": 83,
   "metadata": {},
   "outputs": [],
   "source": [
    "candidate = item[\"generated_section_text\"][\"gpt-3.5-turbo\"][\"text\"]\n",
    "references = item[\"generated_section_text\"][\"gpt-3.5-turbo\"][\"references_sent_to_gpt\"]"
   ]
  },
  {
   "cell_type": "code",
   "execution_count": 84,
   "metadata": {},
   "outputs": [],
   "source": [
    "import re\n",
    "\n",
    "def replace_placeholder(match, references=references):\n",
    "    index = int(match.group(1))  # Extract the index from the placeholder\n",
    "    return references[index][\"bibref\"]  # Return the corresponding reference\n",
    "\n",
    "# Regular expression pattern to match 'REF{i}'\n",
    "pattern = r'REF(\\d+)'\n",
    "\n",
    "# Replace all occurrences of the pattern in 'candidate'\n",
    "candidate = re.sub(pattern, replace_placeholder, candidate)"
   ]
  },
  {
   "cell_type": "code",
   "execution_count": 85,
   "metadata": {},
   "outputs": [
    {
     "name": "stdout",
     "output_type": "stream",
     "text": [
      "Discussions and Future Directions - Robustness to Noise\n",
      "\n",
      "Robustness to noise is a crucial aspect of natural language processing (NLP) models, as real-world text data often contains various forms of noise, such as typos, misspellings, and grammatical errors. Transformer-based pretrained models have shown remarkable performance in NLP tasks, but their robustness to noise remains a challenge. In this section, we discuss the impact of noise on transformer-based models and explore potential future directions to improve their robustness.\n",
      "\n",
      "One important aspect to consider is the effect of noise on question answering (QA) systems. In a study by BIBREF290, it was found that even a single typo in the questions can significantly decrease the performance of QA models. This suggests that transformer-based QA systems are more brittle compared to sentiment classifiers based on BERT, as mentioned in BIBREF290. The robustness of NLP systems depends not only on the learning algorithm but also on the specific task.\n",
      "\n",
      "To address the issue of noise, positional embeddings can be utilized. BIBREF68 suggests that preserving the ordering of characters within a block is crucial. By adding positional embeddings to individual blocks, the model can better capture the positional information and distinguish between different blocks. This approach can potentially enhance the robustness of transformer-based models to noise.\n",
      "\n",
      "Another approach to improve robustness is through data augmentation. BIBREF120 proposes changing a percentage of input words in the next sentence prediction (NLM) task and lowering the mask probability in the masked language modeling (MLM) task. This modification aims to avoid excessive information loss in the sequence while introducing noise during pre-training. By training the models on augmented data, they can potentially learn to handle noise more effectively.\n",
      "\n",
      "Furthermore, BIBREF120 suggests that averaging the embeddings from both the character and token channels can enhance the robustness of transformer-based models. By combining the representations from both channels, the model can leverage both character-level and token-level information for better sequence-level classification. This approach can potentially improve the model's ability to handle noise in the input.\n",
      "\n",
      "In addition to these approaches, adversarial attacks can provide insights into the robustness of transformer-based models. BIBREF291 explores adversarially chosen spelling mistakes in the context of text classification. By altering just two characters per sentence, an adversary can degrade the performance of classifiers to random guessing. Understanding the vulnerabilities of transformer-based models to such attacks can guide the development of more robust models.\n",
      "\n",
      "Looking ahead, future research can focus on developing novel architectures or training strategies specifically designed to enhance the robustness of transformer-based models to noise. Additionally, exploring the impact of noise on multilingual models, as discussed in BIBREF67, can provide valuable insights into the generalizability and robustness of these models across different languages.\n",
      "\n",
      "In conclusion, robustness to noise is a critical aspect of transformer-based pretrained models in NLP. The impact of noise on QA systems, the use of positional embeddings, data augmentation, leveraging both character and token information, and understanding adversarial attacks are all important considerations for improving the robustness of these models. Future research should continue to explore these directions to enhance the performance and reliability of transformer-based models in real-world noisy environments.\n",
      "\n",
      "[BIBREF290] \n",
      "[BIBREF68] \n",
      "[BIBREF120] \n",
      "[BIBREF120] \n",
      "[BIBREF291] \n",
      "[BIBREF67]\n"
     ]
    }
   ],
   "source": [
    "print(candidate)"
   ]
  },
  {
   "cell_type": "code",
   "execution_count": 1,
   "metadata": {},
   "outputs": [],
   "source": [
    "import json\n",
    "\n",
    "data = json.load(open(\"data/sections_with_generated_text_gpt3.5_and_gpt4.json\",'r'))"
   ]
  },
  {
   "cell_type": "code",
   "execution_count": 6,
   "metadata": {},
   "outputs": [
    {
     "data": {
      "text/plain": [
       "dict_keys(['gpt-3.5-turbo', 'gpt-4-1106-preview', 'gpt-3.5-turbo_5_chunks', 'gpt-3.5-turbo_1_chunks', 'gpt-4-1106-preview_1_chunks', 'gpt-4-1106-preview_5_chunks'])"
      ]
     },
     "execution_count": 6,
     "metadata": {},
     "output_type": "execute_result"
    }
   ],
   "source": [
    "data[0][\"generated_section_text\"].keys()"
   ]
  }
 ],
 "metadata": {
  "kernelspec": {
   "display_name": "Python 3",
   "language": "python",
   "name": "python3"
  },
  "language_info": {
   "codemirror_mode": {
    "name": "ipython",
    "version": 3
   },
   "file_extension": ".py",
   "mimetype": "text/x-python",
   "name": "python",
   "nbconvert_exporter": "python",
   "pygments_lexer": "ipython3",
   "version": "3.10.12"
  }
 },
 "nbformat": 4,
 "nbformat_minor": 2
}
